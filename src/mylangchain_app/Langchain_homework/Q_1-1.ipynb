{
 "cells": [
  {
   "cell_type": "code",
   "execution_count": 1,
   "id": "1eeb976a",
   "metadata": {},
   "outputs": [
    {
     "name": "stdout",
     "output_type": "stream",
     "text": [
      "연습문제 1-1. 기본 Chain 만들기 - AI 요리사\n"
     ]
    }
   ],
   "source": [
    "print(\"연습문제 1-1. 기본 Chain 만들기 - AI 요리사\")"
   ]
  },
  {
   "cell_type": "code",
   "execution_count": 5,
   "id": "110b23fd",
   "metadata": {},
   "outputs": [
    {
     "name": "stdout",
     "output_type": "stream",
     "text": [
      "gsk_yyCaCf\n"
     ]
    }
   ],
   "source": [
    "import os\n",
    "from dotenv import load_dotenv\n",
    "from langchain_core.prompts import ChatPromptTemplate\n",
    "from langchain_openai import ChatOpenAI \n",
    "\n",
    "load_dotenv(dotenv_path='.env')\n",
    "OPENAI_API_KEY = os.getenv(\"OPENAI_API_KEY\")\n",
    "print(OPENAI_API_KEY[:10])"
   ]
  },
  {
   "cell_type": "code",
   "execution_count": 9,
   "id": "813420f3",
   "metadata": {},
   "outputs": [
    {
     "name": "stdout",
     "output_type": "stream",
     "text": [
      "<class 'langchain_core.prompts.prompt.PromptTemplate'>\n",
      "input_variables=[] input_types={} partial_variables={} template='너는 요리사야. 토마토, 양파, 치즈로 만들 수 있는 요리를 추천해줘!'\n"
     ]
    }
   ],
   "source": [
    "from langchain_core.prompts import PromptTemplate\n",
    "\n",
    "prompt = PromptTemplate.from_template(\"너는 요리사야. 토마토, 양파, 치즈로 만들 수 있는 요리를 추천해줘!\")\n",
    "\n",
    "print(type(prompt))\n",
    "print(prompt)"
   ]
  },
  {
   "cell_type": "code",
   "execution_count": 10,
   "id": "0011acd9",
   "metadata": {},
   "outputs": [
    {
     "name": "stdout",
     "output_type": "stream",
     "text": [
      "<class 'langchain_core.runnables.base.RunnableSequence'>\n",
      "<class 'langchain_core.messages.ai.AIMessage'>\n",
      "content='토마토, 양파, 치즈로 만들 수 있는 요리로 피자를 추천해 드릴게요!\\n\\n*   재료: 토마토, 양파, 치즈, 피자도우, 올리브오일, 소금, 후추, 바질\\n*   만드는 법:\\n\\n1.  피자도우를 준비해 주세요. \\n2.  토마토와 양파를 잘게 다듬어 주세요.\\n3.  팬에 올리브오일을 두르고 다진 양파를 볶아 주세요. \\n4.  양파가 반 이상 익으면 잘게 다진 토마토를 넣고 함께 볶아 주세요. \\n5.  소금과 후추로 간을 맞춰 주세요. \\n6.  피자도우에 볶은 토마토와 양파 혼합물을 올려 주세요. \\n7.  그 위에 치즈를 올려 주세요. \\n8.  오븐에 180도로 예열한 뒤 10\\\\~15분간 구워 주세요.\\n\\n토마토, 양파, 치즈로 맛있는 피자를 즐겨보세요!' additional_kwargs={'refusal': None} response_metadata={'token_usage': {'completion_tokens': 243, 'prompt_tokens': 35, 'total_tokens': 278, 'completion_tokens_details': None, 'prompt_tokens_details': None, 'queue_time': 0.069440901, 'prompt_time': 0.003270919, 'completion_time': 0.607436819, 'total_time': 0.610707738}, 'model_name': 'meta-llama/llama-4-scout-17b-16e-instruct', 'system_fingerprint': 'fp_79da0e0073', 'id': 'chatcmpl-e2008d4b-9544-4ab6-bdbf-4134ff4eb366', 'service_tier': 'on_demand', 'finish_reason': 'stop', 'logprobs': None} id='run--ddb66a9a-5fee-47d1-b233-bb8d5d3214b9-0' usage_metadata={'input_tokens': 35, 'output_tokens': 243, 'total_tokens': 278, 'input_token_details': {}, 'output_token_details': {}}\n"
     ]
    }
   ],
   "source": [
    "from langchain_openai import ChatOpenAI\n",
    "\n",
    "# llm = ChatOpenAI(model=\"gpt-3.5-turbo-0125\")\n",
    "llm = ChatOpenAI(\n",
    "    api_key=OPENAI_API_KEY,\n",
    "    base_url=\"https://api.groq.com/openai/v1\",  # Groq API 엔드포인트\n",
    "    model=\"meta-llama/llama-4-scout-17b-16e-instruct\",  # Spring AI와 동일한 모델\n",
    "    temperature=0.7\n",
    ")\n",
    "# chain 연결 (LCEL)\n",
    "chain = prompt | llm\n",
    "print(type(chain))\n",
    "\n",
    "# chain 호출\n",
    "result = chain.invoke({\"input\": \"요리리\"})\n",
    "print(type(result))\n",
    "print(result)"
   ]
  }
 ],
 "metadata": {
  "kernelspec": {
   "display_name": "Python mylangchain-app",
   "language": "python",
   "name": "mylangchain-app"
  },
  "language_info": {
   "codemirror_mode": {
    "name": "ipython",
    "version": 3
   },
   "file_extension": ".py",
   "mimetype": "text/x-python",
   "name": "python",
   "nbconvert_exporter": "python",
   "pygments_lexer": "ipython3",
   "version": "3.13.5"
  }
 },
 "nbformat": 4,
 "nbformat_minor": 5
}
