{
 "cells": [
  {
   "cell_type": "code",
   "execution_count": null,
   "id": "2e58b50b",
   "metadata": {},
   "outputs": [],
   "source": [
    "print(\"문제 2-4 : 여행 계획 분석기\")"
   ]
  },
  {
   "cell_type": "code",
   "execution_count": 1,
   "id": "0bc275b8",
   "metadata": {},
   "outputs": [
    {
     "name": "stdout",
     "output_type": "stream",
     "text": [
      "{'destination': '부산', 'duration': '2박3일', 'budget': '30만원', 'rating': '4', 'activities': '해운대 바다구경, 자갈치시장 회 먹기, 감천문화마을 구경'}\n"
     ]
    }
   ],
   "source": [
    "from dotenv import load_dotenv\n",
    "import os\n",
    "from typing import List\n",
    "from langchain_core.prompts import ChatPromptTemplate\n",
    "from langchain.output_parsers import StructuredOutputParser, ResponseSchema\n",
    "from langchain_openai import ChatOpenAI\n",
    "\n",
    "load_dotenv()\n",
    "OPENAI_API_KEY = os.getenv(\"OPENAI_API_KEY\")\n",
    "\n",
    "response_schemas = [\n",
    "    ResponseSchema(name=\"destination\", description=\"여행지 이름\"),\n",
    "    ResponseSchema(name=\"duration\", description=\"여행 기간 (예: 2박 3일)\"),\n",
    "    ResponseSchema(name=\"budget\", description=\"여행 예산 (예: 30만원)\"),\n",
    "    ResponseSchema(name=\"rating\", description=\"여행 추천도, 1~5 사이의 숫자\"),\n",
    "    ResponseSchema(name=\"activities\", description=\"여행 중 주요 활동 리스트\")\n",
    "]\n",
    "\n",
    "output_parser = StructuredOutputParser.from_response_schemas(response_schemas)\n",
    "\n",
    "llm = ChatOpenAI(\n",
    "    api_key=OPENAI_API_KEY,\n",
    "    base_url=\"https://api.groq.com/openai/v1\",\n",
    "    model=\"meta-llama/llama-4-scout-17b-16e-instruct\",\n",
    "    temperature=0\n",
    ")\n",
    "\n",
    "prompt = ChatPromptTemplate.from_messages([\n",
    "    (\"system\", \"너는 여행 후기나 계획을 분석하여 구조화된 데이터를 생성하는 전문가다.\"),\n",
    "    (\"human\", \"다음 텍스트에서 여행지, 기간, 예산, 추천도(1-5점), 주요 활동 리스트를 추출하라.\\n\"\n",
    "              \"출력은 반드시 다음 형식을 따라야 한다:\\n{format_instructions}\\n\\n\"\n",
    "              \"여행 텍스트: {travel_text}\")\n",
    "])\n",
    "\n",
    "chain = prompt | llm | output_parser\n",
    "\n",
    "travel_text = (\n",
    "    \"지난 주에 부산으로 2박 3일 여행을 다녀왔어요. 총 30만원 정도 썼는데 \"\n",
    "    \"해운대에서 바다구경하고, 자갈치시장에서 회 먹고, 감천문화마을도 구경했어요. \"\n",
    "    \"정말 만족스러운 여행이었습니다. 5점 만점에 4점 정도 줄 수 있을 것 같아요.\"\n",
    ")\n",
    "\n",
    "result = chain.invoke({\n",
    "    \"travel_text\": travel_text,\n",
    "    \"format_instructions\": output_parser.get_format_instructions()\n",
    "})\n",
    "\n",
    "print(result)"
   ]
  }
 ],
 "metadata": {
  "kernelspec": {
   "display_name": "Python mylangchain-app",
   "language": "python",
   "name": "mylangchain-app"
  },
  "language_info": {
   "codemirror_mode": {
    "name": "ipython",
    "version": 3
   },
   "file_extension": ".py",
   "mimetype": "text/x-python",
   "name": "python",
   "nbconvert_exporter": "python",
   "pygments_lexer": "ipython3",
   "version": "3.13.5"
  }
 },
 "nbformat": 4,
 "nbformat_minor": 5
}
