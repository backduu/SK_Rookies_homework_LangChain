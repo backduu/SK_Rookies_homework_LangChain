{
 "cells": [
  {
   "cell_type": "code",
   "execution_count": null,
   "id": "25df48c7",
   "metadata": {},
   "outputs": [],
   "source": [
    "print(\"연습문제 2-1. 콤마 구분 리스트 파서 활용\")"
   ]
  },
  {
   "cell_type": "code",
   "execution_count": null,
   "id": "8d9f4f80",
   "metadata": {},
   "outputs": [
    {
     "name": "stdout",
     "output_type": "stream",
     "text": [
      "['박정운 - 기억', '김세화 -  여인의 향기', '웅산 -  My way', '이승철 -  Jazz Ran', \"나윤 -  Pour que l'amour me quitte\"]\n"
     ]
    }
   ],
   "source": [
    "from dotenv import load_dotenv\n",
    "import os\n",
    "from langchain_core.prompts import ChatPromptTemplate\n",
    "from langchain_openai import ChatOpenAI\n",
    "from langchain.output_parsers import CommaSeparatedListOutputParser\n",
    "\n",
    "load_dotenv()\n",
    "OPENAI_API_KEY = os.getenv(\"OPENAI_API_KEY\")\n",
    "\n",
    "llm = ChatOpenAI(\n",
    "    api_key=OPENAI_API_KEY,\n",
    "    base_url=\"https://api.groq.com/openai/v1\",\n",
    "    model=\"meta-llama/llama-4-scout-17b-16e-instruct\",\n",
    "    temperature=0.7\n",
    ")\n",
    "\n",
    "output_parser = CommaSeparatedListOutputParser()\n",
    "\n",
    "prompt = ChatPromptTemplate.from_messages([\n",
    "    (\"system\", \"너는 세계적인 음악 전문가다. \"\n",
    "               \"사용자가 입력한 분야와 관련된 한국의 유명한 노래 5가지를 추천하라. \"\n",
    "               \"출력은 반드시 콤마로 구분된 리스트 형식으로만 작성하라.\"),\n",
    "    (\"human\", \"분야: {category}\")\n",
    "])\n",
    "\n",
    "chain = prompt | llm | output_parser\n",
    "\n",
    "user_input = input(\"관심 있는 분야를 입력하세요 (예: 발라드, 모던 락, 재즈 등): \")\n",
    "\n",
    "\n",
    "result = chain.invoke({\"category\": user_input})\n",
    "\n",
    "print(result) \n"
   ]
  }
 ],
 "metadata": {
  "kernelspec": {
   "display_name": "Python mylangchain-app",
   "language": "python",
   "name": "mylangchain-app"
  },
  "language_info": {
   "codemirror_mode": {
    "name": "ipython",
    "version": 3
   },
   "file_extension": ".py",
   "mimetype": "text/x-python",
   "name": "python",
   "nbconvert_exporter": "python",
   "pygments_lexer": "ipython3",
   "version": "3.13.5"
  }
 },
 "nbformat": 4,
 "nbformat_minor": 5
}
