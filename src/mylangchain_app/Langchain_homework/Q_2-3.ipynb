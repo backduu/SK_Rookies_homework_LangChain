{
 "cells": [
  {
   "cell_type": "code",
   "execution_count": null,
   "id": "ae647a26",
   "metadata": {},
   "outputs": [],
   "source": [
    "print(\"문제 2-3: 학생 정보 구조화 시스템\")"
   ]
  },
  {
   "cell_type": "code",
   "execution_count": null,
   "id": "9229221e",
   "metadata": {},
   "outputs": [
    {
     "name": "stdout",
     "output_type": "stream",
     "text": [
      "name='김민수' age=22 major='컴퓨터공학' hobbies=['게임하기', '영화보기', '코딩'] goal='훌륭한 개발자가 되는 것'\n",
      "{'name': '김민수', 'age': 22, 'major': '컴퓨터공학', 'hobbies': ['게임하기', '영화보기', '코딩'], 'goal': '훌륭한 개발자가 되는 것'}\n"
     ]
    },
    {
     "name": "stderr",
     "output_type": "stream",
     "text": [
      "C:\\Users\\HOME\\AppData\\Local\\Temp\\ipykernel_27720\\3106440287.py:47: PydanticDeprecatedSince20: The `dict` method is deprecated; use `model_dump` instead. Deprecated in Pydantic V2.0 to be removed in V3.0. See Pydantic V2 Migration Guide at https://errors.pydantic.dev/2.11/migration/\n",
      "  print(result.dict())\n"
     ]
    }
   ],
   "source": [
    "from dotenv import load_dotenv\n",
    "import os\n",
    "from typing import List\n",
    "from pydantic import BaseModel, Field\n",
    "from langchain_core.prompts import ChatPromptTemplate\n",
    "from langchain.output_parsers import PydanticOutputParser\n",
    "from langchain_openai import ChatOpenAI\n",
    "\n",
    "load_dotenv()\n",
    "OPENAI_API_KEY = os.getenv(\"OPENAI_API_KEY\")\n",
    "\n",
    "# Pydantic 모델 정의\n",
    "class StudentInfo(BaseModel):\n",
    "    name: str = Field(description=\"학생의 이름\")\n",
    "    age: int = Field(description=\"학생의 나이\")\n",
    "    major: str = Field(description=\"학생의 전공\")\n",
    "    hobbies: List[str] = Field(description=\"학생의 취미 목록\")\n",
    "    goal: str = Field(description=\"학생의 목표\")\n",
    "\n",
    "parser = PydanticOutputParser(pydantic_object=StudentInfo)\n",
    "\n",
    "llm = ChatOpenAI(\n",
    "    api_key=OPENAI_API_KEY,\n",
    "    base_url=\"https://api.groq.com/openai/v1\",\n",
    "    model=\"meta-llama/llama-4-scout-17b-16e-instruct\",\n",
    "    temperature=0\n",
    ")\n",
    "\n",
    "prompt = ChatPromptTemplate.from_messages([\n",
    "    (\"system\", \"너는 학생 자기소개를 분석하여 구조화된 JSON 데이터를 생성하는 전문가다.\"),\n",
    "    (\"human\", \"다음 자기소개에서 이름, 나이, 전공, 취미 리스트, 목표를 추출하라.\\n\"\n",
    "              \"출력은 반드시 다음 형식을 따라야 한다:\\n{format_instructions}\\n\\n\"\n",
    "              \"자기소개: {intro}\")\n",
    "])\n",
    "\n",
    "# 체인 세팅팅\n",
    "chain = prompt | llm | parser\n",
    "\n",
    "intro_text = \"안녕하세요! 저는 김민수이고 22살입니다. 컴퓨터공학을 전공하고 있어요. 취미로는 게임하기, 영화보기, 코딩을 좋아합니다. 앞으로 훌륭한 개발자가 되는 것이 목표입니다.\"\n",
    "\n",
    "result = chain.invoke({\n",
    "    \"intro\": intro_text,\n",
    "    \"format_instructions\": parser.get_format_instructions()\n",
    "})\n",
    "\n",
    "print(result)\n"
   ]
  }
 ],
 "metadata": {
  "kernelspec": {
   "display_name": "Python mylangchain-app",
   "language": "python",
   "name": "mylangchain-app"
  },
  "language_info": {
   "codemirror_mode": {
    "name": "ipython",
    "version": 3
   },
   "file_extension": ".py",
   "mimetype": "text/x-python",
   "name": "python",
   "nbconvert_exporter": "python",
   "pygments_lexer": "ipython3",
   "version": "3.13.5"
  }
 },
 "nbformat": 4,
 "nbformat_minor": 5
}
