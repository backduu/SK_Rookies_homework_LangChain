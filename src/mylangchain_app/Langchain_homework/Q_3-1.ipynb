{
 "cells": [
  {
   "cell_type": "code",
   "execution_count": 3,
   "id": "6f0cb3a0",
   "metadata": {},
   "outputs": [
    {
     "name": "stdout",
     "output_type": "stream",
     "text": [
      "문제 3-1 :  콘텐츠분쟁해결 RAG 시스템 - 간단 실습 가이드\n"
     ]
    }
   ],
   "source": [
    "print(\"문제 3-1 :  콘텐츠분쟁해결 RAG 시스템 - 간단 실습 가이드\")"
   ]
  },
  {
   "cell_type": "code",
   "execution_count": 13,
   "id": "dfb68ae3",
   "metadata": {},
   "outputs": [
    {
     "name": "stdout",
     "output_type": "stream",
     "text": [
      "gs\n",
      "3g\n"
     ]
    }
   ],
   "source": [
    "from dotenv import load_dotenv\n",
    "import os\n",
    "# .env 파일을 불러와서 환경 변수로 설정\n",
    "load_dotenv()\n",
    "\n",
    "OPENAI_API_KEY = os.getenv(\"OPENAI_API_KEY\")\n",
    "print(OPENAI_API_KEY[:2])\n",
    "\n",
    "UPSTAGE_API_KEY = os.getenv(\"UPSTAGE_API_KEY\")\n",
    "print(UPSTAGE_API_KEY[30:])"
   ]
  },
  {
   "cell_type": "code",
   "execution_count": null,
   "id": "4edb1a21",
   "metadata": {},
   "outputs": [
    {
     "name": "stdout",
     "output_type": "stream",
     "text": [
      "Collecting langchain-community\n",
      "  Using cached langchain_community-0.3.29-py3-none-any.whl.metadata (2.9 kB)\n",
      "Requirement already satisfied: langchain-core<2.0.0,>=0.3.75 in c:\\users\\home\\appdata\\local\\pypoetry\\cache\\virtualenvs\\mylangchain-app-yqdph6dv-py3.13\\lib\\site-packages (from langchain-community) (0.3.76)\n",
      "Requirement already satisfied: langchain<2.0.0,>=0.3.27 in c:\\users\\home\\appdata\\local\\pypoetry\\cache\\virtualenvs\\mylangchain-app-yqdph6dv-py3.13\\lib\\site-packages (from langchain-community) (0.3.27)\n",
      "Requirement already satisfied: SQLAlchemy<3,>=1.4 in c:\\users\\home\\appdata\\local\\pypoetry\\cache\\virtualenvs\\mylangchain-app-yqdph6dv-py3.13\\lib\\site-packages (from langchain-community) (2.0.43)\n",
      "Requirement already satisfied: requests<3,>=2.32.5 in c:\\users\\home\\appdata\\local\\pypoetry\\cache\\virtualenvs\\mylangchain-app-yqdph6dv-py3.13\\lib\\site-packages (from langchain-community) (2.32.5)\n",
      "Requirement already satisfied: PyYAML>=5.3 in c:\\users\\home\\appdata\\local\\pypoetry\\cache\\virtualenvs\\mylangchain-app-yqdph6dv-py3.13\\lib\\site-packages (from langchain-community) (6.0.2)\n",
      "Collecting aiohttp<4.0.0,>=3.8.3 (from langchain-community)\n",
      "  Using cached aiohttp-3.12.15-cp313-cp313-win_amd64.whl.metadata (7.9 kB)\n",
      "Requirement already satisfied: tenacity!=8.4.0,<10,>=8.1.0 in c:\\users\\home\\appdata\\local\\pypoetry\\cache\\virtualenvs\\mylangchain-app-yqdph6dv-py3.13\\lib\\site-packages (from langchain-community) (9.1.2)\n",
      "Collecting dataclasses-json<0.7,>=0.6.7 (from langchain-community)\n",
      "  Using cached dataclasses_json-0.6.7-py3-none-any.whl.metadata (25 kB)\n",
      "Collecting pydantic-settings<3.0.0,>=2.10.1 (from langchain-community)\n",
      "  Using cached pydantic_settings-2.10.1-py3-none-any.whl.metadata (3.4 kB)\n",
      "Requirement already satisfied: langsmith>=0.1.125 in c:\\users\\home\\appdata\\local\\pypoetry\\cache\\virtualenvs\\mylangchain-app-yqdph6dv-py3.13\\lib\\site-packages (from langchain-community) (0.4.28)\n",
      "Collecting httpx-sse<1.0.0,>=0.4.0 (from langchain-community)\n",
      "  Using cached httpx_sse-0.4.1-py3-none-any.whl.metadata (9.4 kB)\n",
      "Requirement already satisfied: numpy>=2.1.0 in c:\\users\\home\\appdata\\local\\pypoetry\\cache\\virtualenvs\\mylangchain-app-yqdph6dv-py3.13\\lib\\site-packages (from langchain-community) (2.3.3)\n",
      "Collecting aiohappyeyeballs>=2.5.0 (from aiohttp<4.0.0,>=3.8.3->langchain-community)\n",
      "  Using cached aiohappyeyeballs-2.6.1-py3-none-any.whl.metadata (5.9 kB)\n",
      "Collecting aiosignal>=1.4.0 (from aiohttp<4.0.0,>=3.8.3->langchain-community)\n",
      "  Using cached aiosignal-1.4.0-py3-none-any.whl.metadata (3.7 kB)\n",
      "Requirement already satisfied: attrs>=17.3.0 in c:\\users\\home\\appdata\\local\\pypoetry\\cache\\virtualenvs\\mylangchain-app-yqdph6dv-py3.13\\lib\\site-packages (from aiohttp<4.0.0,>=3.8.3->langchain-community) (25.3.0)\n",
      "Collecting frozenlist>=1.1.1 (from aiohttp<4.0.0,>=3.8.3->langchain-community)\n",
      "  Using cached frozenlist-1.7.0-cp313-cp313-win_amd64.whl.metadata (19 kB)\n",
      "Collecting multidict<7.0,>=4.5 (from aiohttp<4.0.0,>=3.8.3->langchain-community)\n",
      "  Using cached multidict-6.6.4-cp313-cp313-win_amd64.whl.metadata (5.4 kB)\n",
      "Collecting propcache>=0.2.0 (from aiohttp<4.0.0,>=3.8.3->langchain-community)\n",
      "  Using cached propcache-0.3.2-cp313-cp313-win_amd64.whl.metadata (12 kB)\n",
      "Collecting yarl<2.0,>=1.17.0 (from aiohttp<4.0.0,>=3.8.3->langchain-community)\n",
      "  Using cached yarl-1.20.1-cp313-cp313-win_amd64.whl.metadata (76 kB)\n",
      "Collecting marshmallow<4.0.0,>=3.18.0 (from dataclasses-json<0.7,>=0.6.7->langchain-community)\n",
      "  Using cached marshmallow-3.26.1-py3-none-any.whl.metadata (7.3 kB)\n",
      "Collecting typing-inspect<1,>=0.4.0 (from dataclasses-json<0.7,>=0.6.7->langchain-community)\n",
      "  Using cached typing_inspect-0.9.0-py3-none-any.whl.metadata (1.5 kB)\n",
      "Requirement already satisfied: langchain-text-splitters<1.0.0,>=0.3.9 in c:\\users\\home\\appdata\\local\\pypoetry\\cache\\virtualenvs\\mylangchain-app-yqdph6dv-py3.13\\lib\\site-packages (from langchain<2.0.0,>=0.3.27->langchain-community) (0.3.11)\n",
      "Requirement already satisfied: pydantic<3.0.0,>=2.7.4 in c:\\users\\home\\appdata\\local\\pypoetry\\cache\\virtualenvs\\mylangchain-app-yqdph6dv-py3.13\\lib\\site-packages (from langchain<2.0.0,>=0.3.27->langchain-community) (2.11.9)\n",
      "Requirement already satisfied: jsonpatch<2.0,>=1.33 in c:\\users\\home\\appdata\\local\\pypoetry\\cache\\virtualenvs\\mylangchain-app-yqdph6dv-py3.13\\lib\\site-packages (from langchain-core<2.0.0,>=0.3.75->langchain-community) (1.33)\n",
      "Requirement already satisfied: typing-extensions>=4.7 in c:\\users\\home\\appdata\\local\\pypoetry\\cache\\virtualenvs\\mylangchain-app-yqdph6dv-py3.13\\lib\\site-packages (from langchain-core<2.0.0,>=0.3.75->langchain-community) (4.15.0)\n",
      "Requirement already satisfied: packaging>=23.2 in c:\\users\\home\\appdata\\local\\pypoetry\\cache\\virtualenvs\\mylangchain-app-yqdph6dv-py3.13\\lib\\site-packages (from langchain-core<2.0.0,>=0.3.75->langchain-community) (25.0)\n",
      "Requirement already satisfied: jsonpointer>=1.9 in c:\\users\\home\\appdata\\local\\pypoetry\\cache\\virtualenvs\\mylangchain-app-yqdph6dv-py3.13\\lib\\site-packages (from jsonpatch<2.0,>=1.33->langchain-core<2.0.0,>=0.3.75->langchain-community) (3.0.0)\n",
      "Requirement already satisfied: annotated-types>=0.6.0 in c:\\users\\home\\appdata\\local\\pypoetry\\cache\\virtualenvs\\mylangchain-app-yqdph6dv-py3.13\\lib\\site-packages (from pydantic<3.0.0,>=2.7.4->langchain<2.0.0,>=0.3.27->langchain-community) (0.7.0)\n",
      "Requirement already satisfied: pydantic-core==2.33.2 in c:\\users\\home\\appdata\\local\\pypoetry\\cache\\virtualenvs\\mylangchain-app-yqdph6dv-py3.13\\lib\\site-packages (from pydantic<3.0.0,>=2.7.4->langchain<2.0.0,>=0.3.27->langchain-community) (2.33.2)\n",
      "Requirement already satisfied: typing-inspection>=0.4.0 in c:\\users\\home\\appdata\\local\\pypoetry\\cache\\virtualenvs\\mylangchain-app-yqdph6dv-py3.13\\lib\\site-packages (from pydantic<3.0.0,>=2.7.4->langchain<2.0.0,>=0.3.27->langchain-community) (0.4.1)\n",
      "Requirement already satisfied: python-dotenv>=0.21.0 in c:\\users\\home\\appdata\\local\\pypoetry\\cache\\virtualenvs\\mylangchain-app-yqdph6dv-py3.13\\lib\\site-packages (from pydantic-settings<3.0.0,>=2.10.1->langchain-community) (1.1.1)\n",
      "Requirement already satisfied: charset_normalizer<4,>=2 in c:\\users\\home\\appdata\\local\\pypoetry\\cache\\virtualenvs\\mylangchain-app-yqdph6dv-py3.13\\lib\\site-packages (from requests<3,>=2.32.5->langchain-community) (3.4.3)\n",
      "Requirement already satisfied: idna<4,>=2.5 in c:\\users\\home\\appdata\\local\\pypoetry\\cache\\virtualenvs\\mylangchain-app-yqdph6dv-py3.13\\lib\\site-packages (from requests<3,>=2.32.5->langchain-community) (3.10)\n",
      "Requirement already satisfied: urllib3<3,>=1.21.1 in c:\\users\\home\\appdata\\local\\pypoetry\\cache\\virtualenvs\\mylangchain-app-yqdph6dv-py3.13\\lib\\site-packages (from requests<3,>=2.32.5->langchain-community) (2.5.0)\n",
      "Requirement already satisfied: certifi>=2017.4.17 in c:\\users\\home\\appdata\\local\\pypoetry\\cache\\virtualenvs\\mylangchain-app-yqdph6dv-py3.13\\lib\\site-packages (from requests<3,>=2.32.5->langchain-community) (2025.8.3)\n",
      "Requirement already satisfied: greenlet>=1 in c:\\users\\home\\appdata\\local\\pypoetry\\cache\\virtualenvs\\mylangchain-app-yqdph6dv-py3.13\\lib\\site-packages (from SQLAlchemy<3,>=1.4->langchain-community) (3.2.4)\n",
      "Collecting mypy-extensions>=0.3.0 (from typing-inspect<1,>=0.4.0->dataclasses-json<0.7,>=0.6.7->langchain-community)\n",
      "  Using cached mypy_extensions-1.1.0-py3-none-any.whl.metadata (1.1 kB)\n",
      "Requirement already satisfied: httpx<1,>=0.23.0 in c:\\users\\home\\appdata\\local\\pypoetry\\cache\\virtualenvs\\mylangchain-app-yqdph6dv-py3.13\\lib\\site-packages (from langsmith>=0.1.125->langchain-community) (0.28.1)\n",
      "Requirement already satisfied: orjson>=3.9.14 in c:\\users\\home\\appdata\\local\\pypoetry\\cache\\virtualenvs\\mylangchain-app-yqdph6dv-py3.13\\lib\\site-packages (from langsmith>=0.1.125->langchain-community) (3.11.3)\n",
      "Requirement already satisfied: requests-toolbelt>=1.0.0 in c:\\users\\home\\appdata\\local\\pypoetry\\cache\\virtualenvs\\mylangchain-app-yqdph6dv-py3.13\\lib\\site-packages (from langsmith>=0.1.125->langchain-community) (1.0.0)\n",
      "Requirement already satisfied: zstandard>=0.23.0 in c:\\users\\home\\appdata\\local\\pypoetry\\cache\\virtualenvs\\mylangchain-app-yqdph6dv-py3.13\\lib\\site-packages (from langsmith>=0.1.125->langchain-community) (0.25.0)\n",
      "Requirement already satisfied: anyio in c:\\users\\home\\appdata\\local\\pypoetry\\cache\\virtualenvs\\mylangchain-app-yqdph6dv-py3.13\\lib\\site-packages (from httpx<1,>=0.23.0->langsmith>=0.1.125->langchain-community) (4.10.0)\n",
      "Requirement already satisfied: httpcore==1.* in c:\\users\\home\\appdata\\local\\pypoetry\\cache\\virtualenvs\\mylangchain-app-yqdph6dv-py3.13\\lib\\site-packages (from httpx<1,>=0.23.0->langsmith>=0.1.125->langchain-community) (1.0.9)\n",
      "Requirement already satisfied: h11>=0.16 in c:\\users\\home\\appdata\\local\\pypoetry\\cache\\virtualenvs\\mylangchain-app-yqdph6dv-py3.13\\lib\\site-packages (from httpcore==1.*->httpx<1,>=0.23.0->langsmith>=0.1.125->langchain-community) (0.16.0)\n",
      "Requirement already satisfied: sniffio>=1.1 in c:\\users\\home\\appdata\\local\\pypoetry\\cache\\virtualenvs\\mylangchain-app-yqdph6dv-py3.13\\lib\\site-packages (from anyio->httpx<1,>=0.23.0->langsmith>=0.1.125->langchain-community) (1.3.1)\n",
      "Using cached langchain_community-0.3.29-py3-none-any.whl (2.5 MB)\n",
      "Using cached aiohttp-3.12.15-cp313-cp313-win_amd64.whl (449 kB)\n",
      "Using cached dataclasses_json-0.6.7-py3-none-any.whl (28 kB)\n",
      "Using cached httpx_sse-0.4.1-py3-none-any.whl (8.1 kB)\n",
      "Using cached marshmallow-3.26.1-py3-none-any.whl (50 kB)\n",
      "Using cached multidict-6.6.4-cp313-cp313-win_amd64.whl (45 kB)\n",
      "Using cached pydantic_settings-2.10.1-py3-none-any.whl (45 kB)\n",
      "Using cached typing_inspect-0.9.0-py3-none-any.whl (8.8 kB)\n",
      "Using cached yarl-1.20.1-cp313-cp313-win_amd64.whl (86 kB)\n",
      "Using cached aiohappyeyeballs-2.6.1-py3-none-any.whl (15 kB)\n",
      "Using cached aiosignal-1.4.0-py3-none-any.whl (7.5 kB)\n",
      "Using cached frozenlist-1.7.0-cp313-cp313-win_amd64.whl (43 kB)\n",
      "Using cached mypy_extensions-1.1.0-py3-none-any.whl (5.0 kB)\n",
      "Using cached propcache-0.3.2-cp313-cp313-win_amd64.whl (40 kB)\n",
      "Installing collected packages: propcache, mypy-extensions, multidict, marshmallow, httpx-sse, frozenlist, aiohappyeyeballs, yarl, typing-inspect, aiosignal, pydantic-settings, dataclasses-json, aiohttp, langchain-community\n",
      "\n",
      "   ----- ----------------------------------  2/14 [multidict]\n",
      "   -------- -------------------------------  3/14 [marshmallow]\n",
      "   -------------- -------------------------  5/14 [frozenlist]\n",
      "   -------------------- -------------------  7/14 [yarl]\n",
      "   ---------------------------- ----------- 10/14 [pydantic-settings]\n",
      "   ---------------------------- ----------- 10/14 [pydantic-settings]\n",
      "   ------------------------------- -------- 11/14 [dataclasses-json]\n",
      "   ---------------------------------- ----- 12/14 [aiohttp]\n",
      "   ---------------------------------- ----- 12/14 [aiohttp]\n",
      "   ---------------------------------- ----- 12/14 [aiohttp]\n",
      "   ---------------------------------- ----- 12/14 [aiohttp]\n",
      "   ------------------------------------- -- 13/14 [langchain-community]\n",
      "   ------------------------------------- -- 13/14 [langchain-community]\n",
      "   ------------------------------------- -- 13/14 [langchain-community]\n",
      "   ------------------------------------- -- 13/14 [langchain-community]\n",
      "   ------------------------------------- -- 13/14 [langchain-community]\n",
      "   ------------------------------------- -- 13/14 [langchain-community]\n",
      "   ------------------------------------- -- 13/14 [langchain-community]\n",
      "   ------------------------------------- -- 13/14 [langchain-community]\n",
      "   ------------------------------------- -- 13/14 [langchain-community]\n",
      "   ------------------------------------- -- 13/14 [langchain-community]\n",
      "   ------------------------------------- -- 13/14 [langchain-community]\n",
      "   ------------------------------------- -- 13/14 [langchain-community]\n",
      "   ------------------------------------- -- 13/14 [langchain-community]\n",
      "   ------------------------------------- -- 13/14 [langchain-community]\n",
      "   ------------------------------------- -- 13/14 [langchain-community]\n",
      "   ------------------------------------- -- 13/14 [langchain-community]\n",
      "   ------------------------------------- -- 13/14 [langchain-community]\n",
      "   ------------------------------------- -- 13/14 [langchain-community]\n",
      "   ------------------------------------- -- 13/14 [langchain-community]\n",
      "   ------------------------------------- -- 13/14 [langchain-community]\n",
      "   ------------------------------------- -- 13/14 [langchain-community]\n",
      "   ------------------------------------- -- 13/14 [langchain-community]\n",
      "   ------------------------------------- -- 13/14 [langchain-community]\n",
      "   ------------------------------------- -- 13/14 [langchain-community]\n",
      "   ------------------------------------- -- 13/14 [langchain-community]\n",
      "   ------------------------------------- -- 13/14 [langchain-community]\n",
      "   ------------------------------------- -- 13/14 [langchain-community]\n",
      "   ------------------------------------- -- 13/14 [langchain-community]\n",
      "   ------------------------------------- -- 13/14 [langchain-community]\n",
      "   ------------------------------------- -- 13/14 [langchain-community]\n",
      "   ------------------------------------- -- 13/14 [langchain-community]\n",
      "   ------------------------------------- -- 13/14 [langchain-community]\n",
      "   ------------------------------------- -- 13/14 [langchain-community]\n",
      "   ------------------------------------- -- 13/14 [langchain-community]\n",
      "   ------------------------------------- -- 13/14 [langchain-community]\n",
      "   ------------------------------------- -- 13/14 [langchain-community]\n",
      "   ------------------------------------- -- 13/14 [langchain-community]\n",
      "   ------------------------------------- -- 13/14 [langchain-community]\n",
      "   ------------------------------------- -- 13/14 [langchain-community]\n",
      "   ------------------------------------- -- 13/14 [langchain-community]\n",
      "   ------------------------------------- -- 13/14 [langchain-community]\n",
      "   ------------------------------------- -- 13/14 [langchain-community]\n",
      "   ------------------------------------- -- 13/14 [langchain-community]\n",
      "   ------------------------------------- -- 13/14 [langchain-community]\n",
      "   ------------------------------------- -- 13/14 [langchain-community]\n",
      "   ------------------------------------- -- 13/14 [langchain-community]\n",
      "   ------------------------------------- -- 13/14 [langchain-community]\n",
      "   ------------------------------------- -- 13/14 [langchain-community]\n",
      "   ------------------------------------- -- 13/14 [langchain-community]\n",
      "   ------------------------------------- -- 13/14 [langchain-community]\n",
      "   ------------------------------------- -- 13/14 [langchain-community]\n",
      "   ------------------------------------- -- 13/14 [langchain-community]\n",
      "   ------------------------------------- -- 13/14 [langchain-community]\n",
      "   ------------------------------------- -- 13/14 [langchain-community]\n",
      "   ------------------------------------- -- 13/14 [langchain-community]\n",
      "   ------------------------------------- -- 13/14 [langchain-community]\n",
      "   ------------------------------------- -- 13/14 [langchain-community]\n",
      "   ------------------------------------- -- 13/14 [langchain-community]\n",
      "   ------------------------------------- -- 13/14 [langchain-community]\n",
      "   ------------------------------------- -- 13/14 [langchain-community]\n",
      "   ------------------------------------- -- 13/14 [langchain-community]\n",
      "   ------------------------------------- -- 13/14 [langchain-community]\n",
      "   ------------------------------------- -- 13/14 [langchain-community]\n",
      "   ------------------------------------- -- 13/14 [langchain-community]\n",
      "   ------------------------------------- -- 13/14 [langchain-community]\n",
      "   ------------------------------------- -- 13/14 [langchain-community]\n",
      "   ------------------------------------- -- 13/14 [langchain-community]\n",
      "   ------------------------------------- -- 13/14 [langchain-community]\n",
      "   ------------------------------------- -- 13/14 [langchain-community]\n",
      "   ------------------------------------- -- 13/14 [langchain-community]\n",
      "   ------------------------------------- -- 13/14 [langchain-community]\n",
      "   ------------------------------------- -- 13/14 [langchain-community]\n",
      "   ------------------------------------- -- 13/14 [langchain-community]\n",
      "   ------------------------------------- -- 13/14 [langchain-community]\n",
      "   ------------------------------------- -- 13/14 [langchain-community]\n",
      "   ------------------------------------- -- 13/14 [langchain-community]\n",
      "   ------------------------------------- -- 13/14 [langchain-community]\n",
      "   ------------------------------------- -- 13/14 [langchain-community]\n",
      "   ------------------------------------- -- 13/14 [langchain-community]\n",
      "   ------------------------------------- -- 13/14 [langchain-community]\n",
      "   ------------------------------------- -- 13/14 [langchain-community]\n",
      "   ---------------------------------------- 14/14 [langchain-community]\n",
      "\n",
      "Successfully installed aiohappyeyeballs-2.6.1 aiohttp-3.12.15 aiosignal-1.4.0 dataclasses-json-0.6.7 frozenlist-1.7.0 httpx-sse-0.4.1 langchain-community-0.3.29 marshmallow-3.26.1 multidict-6.6.4 mypy-extensions-1.1.0 propcache-0.3.2 pydantic-settings-2.10.1 typing-inspect-0.9.0 yarl-1.20.1\n",
      "Note: you may need to restart the kernel to use updated packages.\n"
     ]
    }
   ],
   "source": [
    "#pip install langchain-community"
   ]
  },
  {
   "cell_type": "code",
   "execution_count": 8,
   "id": "16b45269",
   "metadata": {},
   "outputs": [
    {
     "name": "stdout",
     "output_type": "stream",
     "text": [
      "<langchain_community.document_loaders.pdf.PyPDFLoader object at 0x000002141DEEF350>\n",
      "로드된 문서 수: 109\n",
      "<class 'langchain_core.documents.base.Document'>\n",
      "\n"
     ]
    }
   ],
   "source": [
    "from langchain_community.document_loaders import PyPDFLoader\n",
    "\n",
    "# PDF 파일 로드\n",
    "loader = PyPDFLoader('./data/콘텐츠분쟁해결_사례.pdf')\n",
    "print(loader)\n",
    "docs = loader.load()\n",
    "\n",
    "print(f\"로드된 문서 수: {len(docs)}\")\n",
    "print(type(docs[0]))\n",
    "print(docs[0].page_content[:300])  # 첫 300자 미리보기\n"
   ]
  },
  {
   "cell_type": "code",
   "execution_count": 9,
   "id": "0f65a5eb",
   "metadata": {},
   "outputs": [
    {
     "name": "stdout",
     "output_type": "stream",
     "text": [
      "총 분할된 청크 수: 104\n",
      "첫 번째 청크 미리보기:\n",
      "\n",
      "콘텐츠분쟁조정 법리 연구 2부\n",
      "- 타 분쟁조정사례 조사 -\n"
     ]
    }
   ],
   "source": [
    "from langchain.text_splitter import RecursiveCharacterTextSplitter\n",
    "\n",
    "# 텍스트 분할기 설정\n",
    "text_splitter = RecursiveCharacterTextSplitter(\n",
    "    chunk_size=1500,      # 권장 범위\n",
    "    chunk_overlap=300,    # 맥락 보존\n",
    "    separators=[\n",
    "        \"\\n【사건개요】\",\n",
    "        \"\\n【쟁점사항】\",\n",
    "        \"\\n【처리경위】\",\n",
    "        \"\\n【처리결과】\",\n",
    "        \"\\n\", \"\\n\\n\", \"\\n\", \".\", \" \", \"\"\n",
    "    ]\n",
    ")\n",
    "\n",
    "# 문서 분할\n",
    "splits = text_splitter.split_documents(docs)\n",
    "\n",
    "print(f\"총 분할된 청크 수: {len(splits)}\")\n",
    "print(\"첫 번째 청크 미리보기:\\n\")\n",
    "print(splits[0].page_content[:300])\n"
   ]
  },
  {
   "cell_type": "code",
   "execution_count": 14,
   "id": "7f09d6dc",
   "metadata": {},
   "outputs": [
    {
     "name": "stdout",
     "output_type": "stream",
     "text": [
      "임베딩 모델 준비 완료: client=<openai.resources.embeddings.Embeddings object at 0x0000021421180050> async_client=<openai.resources.embeddings.AsyncEmbeddings object at 0x0000021421180980> model='solar-embedding-1-large' dimensions=None upstage_api_key=SecretStr('**********') upstage_api_base='https://api.upstage.ai/v1/solar' embedding_ctx_length=4096 embed_batch_size=10 allowed_special=set() disallowed_special='all' chunk_size=1000 max_retries=2 request_timeout=None show_progress_bar=False model_kwargs={} skip_empty=False default_headers={'x-upstage-client': 'langchain'} default_query=None http_client=None http_async_client=None\n"
     ]
    }
   ],
   "source": [
    "from langchain_upstage import UpstageEmbeddings\n",
    "\n",
    "# 임베딩 모델 초기화\n",
    "embedding = UpstageEmbeddings(model=\"solar-embedding-1-large\", api_key=UPSTAGE_API_KEY)\n",
    "\n",
    "print(\"임베딩 모델 준비 완료:\", embedding)\n"
   ]
  },
  {
   "cell_type": "code",
   "execution_count": 16,
   "id": "9a630a79",
   "metadata": {},
   "outputs": [
    {
     "name": "stdout",
     "output_type": "stream",
     "text": [
      "벡터 저장소 생성 완료\n"
     ]
    }
   ],
   "source": [
    "from langchain_community.vectorstores import FAISS\n",
    "\n",
    "# 분할된 문서를 벡터화하여 저장\n",
    "vectorstore = FAISS.from_documents(documents=splits, embedding=embedding)\n",
    "\n",
    "print(\"벡터 저장소 생성 완료\")\n"
   ]
  },
  {
   "cell_type": "code",
   "execution_count": 17,
   "id": "3d50b3de",
   "metadata": {},
   "outputs": [
    {
     "name": "stdout",
     "output_type": "stream",
     "text": [
      "검색기 준비 완료!\n"
     ]
    }
   ],
   "source": [
    "# 검색기 설정\n",
    "retriever = vectorstore.as_retriever(\n",
    "    search_type=\"similarity\",   # 또는 \"mmr\" (다양성 고려)\n",
    "    search_kwargs={\"k\": 5}      # 상위 5개 문서 검색\n",
    ")\n",
    "\n",
    "print(\"검색기 준비 완료!\")\n"
   ]
  },
  {
   "cell_type": "code",
   "execution_count": 19,
   "id": "9a5a42c9",
   "metadata": {},
   "outputs": [
    {
     "name": "stdout",
     "output_type": "stream",
     "text": [
      "LLM 준비 완료\n"
     ]
    }
   ],
   "source": [
    "from langchain_upstage import ChatUpstage\n",
    "\n",
    "# LLM 초기화\n",
    "llm = ChatUpstage(\n",
    "    model=\"solar-pro\",\n",
    "    base_url=\"https://api.upstage.ai/v1\",\n",
    "    temperature=0.2\n",
    ")\n",
    "\n",
    "print(\"LLM 준비 완료\")\n"
   ]
  },
  {
   "cell_type": "code",
   "execution_count": 21,
   "id": "6941b550",
   "metadata": {},
   "outputs": [
    {
     "name": "stdout",
     "output_type": "stream",
     "text": [
      "QA 체인 준비 완료\n"
     ]
    }
   ],
   "source": [
    "from langchain.chains import RetrievalQA\n",
    "from langchain.prompts import PromptTemplate\n",
    "\n",
    "# 프롬프트 템플릿\n",
    "prompt_template = \"\"\"\n",
    "당신은 콘텐츠 분야 전문 법률 자문사입니다.\n",
    "아래 분쟁조정 사례들을 바탕으로 정확하고 전문적인 법률 조언을 제공해주세요.\n",
    "\n",
    "관련 분쟁사례:\n",
    "{context}\n",
    "\n",
    "상담 내용: {question}\n",
    "\n",
    "답변 가이드라인:\n",
    "1. 제시된 사례들을 근거로 답변하세요\n",
    "2. 관련 법령이나 조항이 있다면 명시하세요\n",
    "3. 비슷한 사례의 처리경위와 결과를 참고하여 설명하세요\n",
    "4. 실무적 해결방안을 단계별로 제시하세요\n",
    "5. 사례에 없는 내용은 \"제시된 사례집에서는 확인할 수 없습니다\"라고 명시하세요\n",
    "\n",
    "전문 법률 조언:\n",
    "\"\"\"\n",
    "\n",
    "prompt = PromptTemplate(\n",
    "    template=prompt_template,\n",
    "    input_variables=[\"context\", \"question\"]\n",
    ")\n",
    "\n",
    "# QA 체인 생성\n",
    "qa_chain = RetrievalQA.from_chain_type(\n",
    "    llm=llm,\n",
    "    chain_type=\"stuff\",\n",
    "    retriever=retriever,\n",
    "    chain_type_kwargs={\"prompt\": prompt},\n",
    "    return_source_documents=True\n",
    ")\n",
    "\n",
    "print(\"QA 체인 준비 완료\")\n"
   ]
  },
  {
   "cell_type": "code",
   "execution_count": 22,
   "id": "1fdff69f",
   "metadata": {},
   "outputs": [
    {
     "name": "stdout",
     "output_type": "stream",
     "text": [
      "\n",
      "[질문]\n",
      "온라인 게임에서 시스템 오류로 아이템이 사라졌는데, 게임회사가 복구를 거부하고 있습니다. 어떻게 해결할 수 있나요?\n",
      "\n",
      "[답변]\n",
      "### 전문 법률 조언: 온라인 게임 시스템 오류로 인한 아이템 복구 거부 시 해결 방안  \n",
      "\n",
      "#### 1. **사례 분석을 통한 쟁점 정리**  \n",
      "제시된 사례집에 따르면, 시스템 오류로 인한 아이템 복구 문제는 다음과 같은 쟁점으로 구분됩니다:  \n",
      "- **(1) 시스템 오류의 객관적 입증 여부** (2009년 사례 참조)  \n",
      "  - 다수의 사용자에게 동일한 오류가 발생했는지, 게임 로그 등으로 오류 사실을 입증할 수 있어야 합니다.  \n",
      "  - 단일 사용자의 주장만으로는 회사가 오류를 인정하지 않을 가능성이 높습니다.  \n",
      "- **(2) 계정 소유권 및 약관 위반 여부** (2006년 사례 참조)  \n",
      "  - 게임사가 현금거래 또는 계정 공유를 금지한 경우, 계정 명의자가 아닌 실소유자의 복구 요청은 거절될 수 있습니다.  \n",
      "- **(3) 게임사의 복구 의무 및 약관 조항** (2006년 프로그램 오류 사례 참조)  \n",
      "  - 게임사가 프로그램 오류를 인정하고 복구한 사례가 있으나, 이는 회사의 재량에 따른 것입니다.  \n",
      "\n",
      "#### 2. **관련 법령 및 약관 검토**  \n",
      "- **민법 제250조(도품·유실물 특례)**  \n",
      "  - 아이템이 해킹 또는 시스템 오류로 소멸된 경우, 게임사가 \"유실물 반환의무\"를 질 수 있으나, **게임머니는 금전으로 간주되어 적용되지 않을 수 있습니다** (2009년 사례 참조).  \n",
      "- **전자상거래법 및 약관 규제법**  \n",
      "  - 게임사의 약관이 불공정할 경우(예: \"모든 책임은 사용자에게 있다\"는 조항), 무효 또는 수정 요구가 가능합니다.  \n",
      "  - **약관에 시스템 오류 시 복구 절차가 명시되어 있는지 확인**해야 합니다.  \n",
      "\n",
      "#### 3. **실무적 해결 단계**  \n",
      "**(1) 증거 수집 및 오류 입증**  \n",
      "- 게임 내 로그, 스크린샷, 고객센터 대화 기록 등을 보관하여 시스템 오류를 입증합니다.  \n",
      "- 동일 오류가 다른 사용자에게도 발생했는지 확인합니다 (2009년 사례에서 다수 불만 없음이 거절 사유로 작용).  \n",
      "\n",
      "**(2) 게임사에 공식 이의제기**  \n",
      "- **고객센터 또는 게시판을 통해 서면으로 복구 요청**을 합니다 (2006년 사례에서 게시판 문의 후 복구된 사례 참조).  \n",
      "- 요청 시 **\"시스템 오류로 인한 피해\"**임을 명시하고, **약관상 복구 절차**가 있는지 질의합니다.  \n",
      "\n",
      "**(3) 계정 소유권 문제 해결**  \n",
      "- 계정 명의자와 실소유자가 다른 경우, **명의자에게 복구 요청을 위임**하거나, **명의 변경 절차**를 이행해야 합니다 (2006년 사례에서 명의자 아닌 경우 거절).  \n",
      "\n",
      "**(4) 분쟁조정 신청**  \n",
      "- 게임사가 복구를 거부할 경우, **한국소비자원에 분쟁조정**을 신청합니다.  \n",
      "  - 조정 시 **시스템 오류의 객관적 증거**와 **게임사의 약관 위반 여부**를 중점적으로 주장합니다.  \n",
      "  - 단, **게임머니는 환불 대상이 아닐 수 있음**에 유의합니다 (2009년 사례에서 게임머니 1,000억 소실 주장이 기각된 사례 참조).  \n",
      "\n",
      "**(5) 소송 검토**  \n",
      "- 분쟁조정으로 해결되지 않을 경우, **민사소송**을 고려할 수 있으나, **아이템의 재산적 가치 인정 여부**가 관건입니다.  \n",
      "  - 현재 판례에서는 게임 아이템을 **전자적 데이터에 불과한 것**으로 보아 재산적 가치를 인정하지 않는 경우가 많습니다.  \n",
      "\n",
      "#### 4. **주의사항**  \n",
      "- **제시된 사례집에는 없는 내용**:  \n",
      "  - 게임사가 복구 의무를 명시한 약관이 있는 경우, 이를 근거로 강제 집행이 가능할 수 있으나, 사례집에는 해당 사례가 없습니다.  \n",
      "  - 해킹으로 인한 아이템 손실 시 복구 가능성은 별도 검토가 필요합니다 (2009년 사례 참조).  \n",
      "\n",
      "#### 5. **결론**  \n",
      "시스템 오류로 인한 아이템 복구 문제는 **증거 확보**와 **게임사의 약관 분석**이 핵심입니다.  \n",
      "- **성공 가능성 높은 경우**: 다수 사용자에게 동일 오류가 발생했거나, 게임사가 프로그램 오류를 인정한 경우.  \n",
      "- **어려운 경우**: 단일 사용자의 주장이거나, 계정 소유권 문제가 있는 경우.  \n",
      "\n",
      "**추천 조치**: 한국소비자원에 분쟁조정을 신청하면서, 시스템 오류 증거와 약관 조항을 함께 제출하세요.\n",
      "\n",
      "[참조 문서]\n",
      "[1] {'producer': 'Hancom PDF 1.3.0.410', 'creator': 'Hancom PDF 1.3.0.410', 'creationdate': '2011-01-20T18:01:33+09:00', 'title': '제 2절 영국사례', 'moddate': '2011-01-20T18:01:33+09:00', 'pdfversion': '1.4', 'source': './data/콘텐츠분쟁해결_사례.pdf', 'total_pages': 109, 'page': 8, 'page_label': '9'} → 1. 게임\n",
      "3게임1\n",
      "■ 1-가-1) 한국소비자원 조정전 상담사례\n",
      "2006_시스템 오류로 소멸된 아이템 복구 요구\n",
      "【사건개요 】\n",
      "신청인은 피신청인이 제공하는 온라인게임서비스를 이용하던 중 시스템 오류로 120,000 원 상당의 \n",
      "아이템이 소멸되었고 , 이에 피신청인에게 수차례 이의제기하였으나 사과 공지문만 안내 되고 아이템\n",
      "이 복구 되지 않았다 . 피신청인이...\n",
      "[2] {'producer': 'Hancom PDF 1.3.0.410', 'creator': 'Hancom PDF 1.3.0.410', 'creationdate': '2011-01-20T18:01:33+09:00', 'title': '제 2절 영국사례', 'moddate': '2011-01-20T18:01:33+09:00', 'pdfversion': '1.4', 'source': './data/콘텐츠분쟁해결_사례.pdf', 'total_pages': 109, 'page': 28, 'page_label': '29'} → 1. 게임\n",
      "23■ 1-가-1) 한국소비자원 조정전 상담사례\n",
      "2009_시스템 오류로 인한 손실 아이템 복구 요구\n",
      "【사건개요 】\n",
      "신청인은 2009. 9. 4 피신청인 프로그램 업데이트 후 2009. 9. 5 온라인게임 서비스를 이용하다 \n",
      "렉(시스템오류 )발생으로 며칠간 오류현상이 반복되더니 신청인의 게임머니 1,000억 가량이 소실된 \n",
      "것을 확인 한 뒤, 피신...\n",
      "[3] {'producer': 'Hancom PDF 1.3.0.410', 'creator': 'Hancom PDF 1.3.0.410', 'creationdate': '2011-01-20T18:01:33+09:00', 'title': '제 2절 영국사례', 'moddate': '2011-01-20T18:01:33+09:00', 'pdfversion': '1.4', 'source': './data/콘텐츠분쟁해결_사례.pdf', 'total_pages': 109, 'page': 2, 'page_label': '3'} → 2009_ 인터넷 게임 계정 영구이용 제한조치 취소 요구···································· 1 9\n",
      "2009_ 사용하지 않았으나 차감된 아이템 배상 요구········································· 2 0\n",
      "2009_ 불법프로그램 사용이유로 영구 계정이용제한 조치에 대한 취소 요구···2 1\n",
      "2009_...\n",
      "[4] {'producer': 'Hancom PDF 1.3.0.410', 'creator': 'Hancom PDF 1.3.0.410', 'creationdate': '2011-01-20T18:01:33+09:00', 'title': '제 2절 영국사례', 'moddate': '2011-01-20T18:01:33+09:00', 'pdfversion': '1.4', 'source': './data/콘텐츠분쟁해결_사례.pdf', 'total_pages': 109, 'page': 9, 'page_label': '10'} → 콘텐츠분쟁조정 법리 연구 2부 - 타 분쟁조정사례 조사 -\n",
      "4■ 1-가-1) 한국소비자원 조정전 상담사례\n",
      "2006_프로그램 오류로 소멸된 아이템 복구 요구\n",
      "【사건개요 】\n",
      "신청인은 피신청인의 게임서비스 이용자로 최근 게임이용 뒤 접속종료 이후 게임을 시작할 때 보니 \n",
      "아이템이 사라져, 프로그램 오류라 판단하고 피신청인에게 복구를 문의하였으나 . 피신청인이 게...\n",
      "[5] {'producer': 'Hancom PDF 1.3.0.410', 'creator': 'Hancom PDF 1.3.0.410', 'creationdate': '2011-01-20T18:01:33+09:00', 'title': '제 2절 영국사례', 'moddate': '2011-01-20T18:01:33+09:00', 'pdfversion': '1.4', 'source': './data/콘텐츠분쟁해결_사례.pdf', 'total_pages': 109, 'page': 10, 'page_label': '11'} → 1. 게임\n",
      "5■ 1-가-1) 한국소비자원 조정전 상담사례\n",
      "2007_인터넷게임서비스 아이템 복구 요구\n",
      "【사건개요 】\n",
      "신청인은 피신청인의 인터넷게임서비스를 이용자이다 . 2007. 11. 14 피신청인은 신청인이 타 이용자\n",
      "에게서 11. 10. 구매한 아이템이 해킹 아이템이라며 동 아이템을 회수하고 신청인이 지급하였던 \n",
      "52,000,000 딜(게임머니 )을 환...\n"
     ]
    }
   ],
   "source": [
    "query = \"온라인 게임에서 시스템 오류로 아이템이 사라졌는데, 게임회사가 복구를 거부하고 있습니다. 어떻게 해결할 수 있나요?\"\n",
    "\n",
    "result = qa_chain.invoke({\"query\": query})\n",
    "\n",
    "print(\"\\n[질문]\")\n",
    "print(query)\n",
    "print(\"\\n[답변]\")\n",
    "print(result[\"result\"])\n",
    "print(\"\\n[참조 문서]\")\n",
    "for i, doc in enumerate(result[\"source_documents\"], 1):\n",
    "    print(f\"[{i}] {doc.metadata} → {doc.page_content[:200]}...\")\n"
   ]
  }
 ],
 "metadata": {
  "kernelspec": {
   "display_name": "mylangchain-app-py3.13",
   "language": "python",
   "name": "python3"
  },
  "language_info": {
   "codemirror_mode": {
    "name": "ipython",
    "version": 3
   },
   "file_extension": ".py",
   "mimetype": "text/x-python",
   "name": "python",
   "nbconvert_exporter": "python",
   "pygments_lexer": "ipython3",
   "version": "3.13.5"
  }
 },
 "nbformat": 4,
 "nbformat_minor": 5
}
