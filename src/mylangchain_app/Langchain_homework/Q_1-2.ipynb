{
 "cells": [
  {
   "cell_type": "code",
   "execution_count": 16,
   "id": "c5a94f9c",
   "metadata": {},
   "outputs": [
    {
     "name": "stdout",
     "output_type": "stream",
     "text": [
      "연습문제 1-2. Multi Chain 만들기 - 노래 추천 시스템\n"
     ]
    }
   ],
   "source": [
    "print(\"연습문제 1-2. Multi Chain 만들기 - 노래 추천 시스템\")"
   ]
  },
  {
   "cell_type": "code",
   "execution_count": 5,
   "id": "b6416331",
   "metadata": {},
   "outputs": [
    {
     "name": "stdout",
     "output_type": "stream",
     "text": [
      "gsk_yyCaCf\n"
     ]
    }
   ],
   "source": [
    "import os\n",
    "from dotenv import load_dotenv\n",
    "from langchain_core.prompts import ChatPromptTemplate\n",
    "from langchain_openai import ChatOpenAI \n",
    "\n",
    "load_dotenv(dotenv_path='.env')\n",
    "OPENAI_API_KEY = os.getenv(\"OPENAI_API_KEY\")\n",
    "print(OPENAI_API_KEY[:10])"
   ]
  },
  {
   "cell_type": "code",
   "execution_count": 15,
   "id": "dfb44db3",
   "metadata": {},
   "outputs": [
    {
     "name": "stdout",
     "output_type": "stream",
     "text": [
      "\n",
      "🔹 노래 설명:\n",
      "('Kashmir  \\n'\n",
      " 'Led Zeppelin  \\n'\n",
      " '\\n'\n",
      " '- 영국의 전설적인 하드록 밴드. 1968년 결성, 기타手 지미 페이지, 보컬 로버트 플랜트, 베이스 존 폴 존스, 드럼 존 본햄으로 '\n",
      " '구성.  \\n'\n",
      " '- 블루스·포크·싸이키델릭·동양 음율까지 흡수한 사운드로, 70년대 록의 새로운 지형을 열었다.  \\n'\n",
      " '- “Kashmir”는 1975년 앨범 《Physical Graffiti》 수록곡. 단순한 하드록을 넘어, 동양 스케일(DADGAD) '\n",
      " '기타 리프, 헤비한 드럼·베이스, 스트링 섹션까지 결합해 ‘사막을 걷는 듯한’ 환각적 분위기를 만든다. 가사는 인도 카슈미르 지역이 '\n",
      " '아닌, 사하라 사막 투어 당시의 몽환적 체험에서 영감을 받았다.  \\n'\n",
      " '\\n'\n",
      " '연관 추천  \\n'\n",
      " '1. Led Zeppelin – “Achilles Last Stand”  \\n'\n",
      " '2. Pink Floyd – “Set the Controls for the Heart of the Sun”  \\n'\n",
      " '3. The Doors – “The End”  \\n'\n",
      " '4. Black Sabbath – “Planet Caravan”  \\n'\n",
      " '5. Tool – “Reflection”')\n"
     ]
    }
   ],
   "source": [
    "from langchain_core.prompts import ChatPromptTemplate\n",
    "from langchain_openai import ChatOpenAI\n",
    "from langchain_core.output_parsers import StrOutputParser\n",
    "from pprint import pprint\n",
    "\n",
    "# Step 1: 사용자가 입력한 장르에 따라 영화 추천\n",
    "prompt1 = ChatPromptTemplate.from_template(\"{song} 장르에서 추천할 만한 노래를 한 편 알려주세요.\")\n",
    "\n",
    "# Step 2: 추천된 영화의 줄거리를 요약\n",
    "prompt2 = ChatPromptTemplate.from_template(\"{singer} 추천한 노래의 제목을 먼저 알려주시고, 줄을 바꾸어서 노래를 부른 가수의 정보, 특징, 연관 노래 추천으로 적어줘.\")\n",
    "\n",
    "# OpenAI 모델 사용\n",
    "# llm = ChatOpenAI(model=\"gpt-3.5-turbo-0125\")\n",
    "llm = ChatOpenAI(\n",
    "    api_key=OPENAI_API_KEY,\n",
    "    base_url=\"https://api.groq.com/openai/v1\",  # Groq API 엔드포인트\n",
    "    #model=\"meta-llama/llama-4-scout-17b-16e-instruct\",  # Spring AI와 동일한 모델\n",
    "    model=\"moonshotai/kimi-k2-instruct-0905\",\n",
    "    temperature=0.7\n",
    ")\n",
    "\n",
    "# 체인 1: 여행지추천 (입력: 여행지 → 출력: 나라,도시시)\n",
    "chain1 = prompt1 | llm | StrOutputParser()\n",
    "\n",
    "# # Step 1: 사용자가 입력한 노래 장르에 따른 추천\n",
    "song = chain1.invoke({\"song\": \"rock\"})  # 노래 관련\n",
    "\n",
    "# print(type(movie))\n",
    "# print(\" ===> 추천된 노래:\") \n",
    "# print(movie)\n",
    "\n",
    "chain2 = (\n",
    "    {\"singer\": chain1}  # chain1의 출력을 movie 변수로 전달\n",
    "    | prompt2\n",
    "    | llm\n",
    "    | StrOutputParser()\n",
    ")\n",
    "\n",
    "response = chain2.invoke({\"song\": \"rock\"})\n",
    "print(\"\\n🔹 노래 설명:\")\n",
    "pprint(response)\n"
   ]
  }
 ],
 "metadata": {
  "kernelspec": {
   "display_name": "mylangchain-app-py3.13",
   "language": "python",
   "name": "python3"
  },
  "language_info": {
   "codemirror_mode": {
    "name": "ipython",
    "version": 3
   },
   "file_extension": ".py",
   "mimetype": "text/x-python",
   "name": "python",
   "nbconvert_exporter": "python",
   "pygments_lexer": "ipython3",
   "version": "3.13.5"
  }
 },
 "nbformat": 4,
 "nbformat_minor": 5
}
