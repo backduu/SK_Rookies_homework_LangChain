{
 "cells": [
  {
   "cell_type": "code",
   "execution_count": 1,
   "id": "3afc4c8c",
   "metadata": {},
   "outputs": [
    {
     "name": "stdout",
     "output_type": "stream",
     "text": [
      "연습문제 2-2. 영화 리뷰 감정 분석기\n"
     ]
    }
   ],
   "source": [
    "print(\"연습문제 2-2. 영화 리뷰 감정 분석기\")"
   ]
  },
  {
   "cell_type": "code",
   "execution_count": 5,
   "id": "52c271e8",
   "metadata": {},
   "outputs": [
    {
     "name": "stdout",
     "output_type": "stream",
     "text": [
      "리뷰: 이 영화 정말 재미없어요. 시간 낭비였습니다.\n",
      " | 감정 분류: 부정\n",
      "\n",
      "리뷰: 배우들의 연기가..할말하않\n",
      " | 감정 분류: 부정\n",
      "\n",
      "리뷰: 그냥 무난한 영화였습니다. 나쁘지도 좋지도 않아요.\n",
      " | 감정 분류: 보통\n",
      "\n"
     ]
    }
   ],
   "source": [
    "from dotenv import load_dotenv\n",
    "import os\n",
    "from enum import Enum\n",
    "from langchain_core.prompts import ChatPromptTemplate\n",
    "from langchain_openai import ChatOpenAI\n",
    "from langchain.output_parsers import EnumOutputParser, OutputFixingParser\n",
    "\n",
    "load_dotenv()\n",
    "OPENAI_API_KEY = os.getenv(\"OPENAI_API_KEY\")\n",
    "\n",
    "class Sentiment(Enum):\n",
    "    긍정 = \"긍정\"\n",
    "    부정 = \"부정\"\n",
    "    보통 = \"보통\"\n",
    "\n",
    "enum_parser = EnumOutputParser(enum=Sentiment)\n",
    "\n",
    "llm = ChatOpenAI(\n",
    "    api_key=OPENAI_API_KEY,\n",
    "    base_url=\"https://api.groq.com/openai/v1\",\n",
    "    model=\"meta-llama/llama-4-scout-17b-16e-instruct\",\n",
    "    temperature=0\n",
    ")\n",
    "\n",
    "fixing_parser = OutputFixingParser.from_llm(parser=enum_parser, llm=llm)\n",
    "\n",
    "prompt = ChatPromptTemplate.from_messages([\n",
    "    (\"system\", \"너는 영화 리뷰 감정 분석가다. \"\n",
    "               \"리뷰를 읽고 감정을 '긍정', '부정', '보통' 중 하나로만 출력하라.\"),\n",
    "    (\"human\", \"{review}\")\n",
    "])\n",
    "\n",
    "chain = prompt | llm | fixing_parser\n",
    "\n",
    "# 테스트 리뷰들들\n",
    "test_reviews = [\n",
    "    \"이 영화 정말 재미없어요. 시간 낭비였습니다.\",\n",
    "    \"배우들의 연기가..할말하않\",\n",
    "    \"그냥 무난한 영화였습니다. 나쁘지도 좋지도 않아요.\"\n",
    "]\n",
    "\n",
    "for review in test_reviews:\n",
    "    sentiment = chain.invoke({\"review\": review})\n",
    "    print(f\"리뷰: {review}\\n | 감정 분류: {sentiment.value}\\n\")\n"
   ]
  }
 ],
 "metadata": {
  "kernelspec": {
   "display_name": "Python mylangchain-app",
   "language": "python",
   "name": "mylangchain-app"
  },
  "language_info": {
   "codemirror_mode": {
    "name": "ipython",
    "version": 3
   },
   "file_extension": ".py",
   "mimetype": "text/x-python",
   "name": "python",
   "nbconvert_exporter": "python",
   "pygments_lexer": "ipython3",
   "version": "3.13.5"
  }
 },
 "nbformat": 4,
 "nbformat_minor": 5
}
