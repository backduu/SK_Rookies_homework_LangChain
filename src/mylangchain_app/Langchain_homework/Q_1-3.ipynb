{
 "cells": [
  {
   "cell_type": "code",
   "execution_count": null,
   "id": "d657adea",
   "metadata": {},
   "outputs": [],
   "source": [
    "print(\"연습문제 1-3. FewShotPromptTemplate과 시스템 메시지 활용\")"
   ]
  },
  {
   "cell_type": "code",
   "execution_count": 1,
   "id": "436a6d68",
   "metadata": {},
   "outputs": [
    {
     "name": "stdout",
     "output_type": "stream",
     "text": [
      "gsk_y\n"
     ]
    }
   ],
   "source": [
    "from dotenv import load_dotenv\n",
    "import os\n",
    "# .env 파일을 불러와서 환경 변수로 설정\n",
    "load_dotenv()\n",
    "\n",
    "OPENAI_API_KEY = os.getenv(\"OPENAI_API_KEY\")\n",
    "print(OPENAI_API_KEY[:5])"
   ]
  },
  {
   "cell_type": "code",
   "execution_count": 11,
   "id": "21b61c55",
   "metadata": {},
   "outputs": [
    {
     "name": "stdout",
     "output_type": "stream",
     "text": [
      "client=<openai.resources.chat.completions.completions.Completions object at 0x0000017FDB6F7950> async_client=<openai.resources.chat.completions.completions.AsyncCompletions object at 0x0000017FDB6F7750> root_client=<openai.OpenAI object at 0x0000017FDB6F7350> root_async_client=<openai.AsyncOpenAI object at 0x0000017FDB6F7550> model_name='meta-llama/llama-4-scout-17b-16e-instruct' temperature=0.7 model_kwargs={} openai_api_key=SecretStr('**********') openai_api_base='https://api.groq.com/openai/v1'\n",
      "first=ChatPromptTemplate(input_variables=['news'], input_types={}, partial_variables={}, messages=[SystemMessagePromptTemplate(prompt=PromptTemplate(input_variables=[], input_types={}, partial_variables={}, template='뉴스 키워드 추출 전문가입니다. 핵심 키워드 3개를 추출하세요.'), additional_kwargs={}), FewShotChatMessagePromptTemplate(examples=[{'news': '삼성전자가 내년 초에 자체적으로 개발한 인공지능(AI) 가속기를 처음으로 출시할 예정이다. 이는 AI 반도체 시장에서 지배적인 위치를 차지하고 있는 엔비디아의 독점을 도전하고, 세계 최고의 반도체 제조업체로서의 지위를 다시 확립하려는 삼성전자의 노력으로 해석된다.', 'keywords': '삼성전자, 인공지능, 엔비디아'}, {'news': '세계보건기구(WHO)는 최근 새로운 건강 위기에 대응하기 위해 국제 협력의 중요성을 강조했다. 전염병 대응 역량의 강화와 글로벌 보건 시스템의 개선이 필요하다고 발표했다.', 'keywords': '세계보건기구, 건강위기, 국제협력'}, {'news': '테슬라는 자율주행 기술의 상용화를 앞당기기 위해 새로운 AI 기반 운전자 보조 시스템을 공개했다. 이번 기술은 실시간 도로 상황 분석과 예측 기능을 강화해 안전성과 효율성을 크게 높일 것으로 기대된다.', 'keywords': '테슬라, 자율주행, 인공지능'}], input_variables=[], input_types={}, partial_variables={}, example_prompt=ChatPromptTemplate(input_variables=['keywords', 'news'], input_types={}, partial_variables={}, messages=[HumanMessagePromptTemplate(prompt=PromptTemplate(input_variables=['news'], input_types={}, partial_variables={}, template='{news}'), additional_kwargs={}), AIMessagePromptTemplate(prompt=PromptTemplate(input_variables=['keywords'], input_types={}, partial_variables={}, template='{keywords}'), additional_kwargs={})])), HumanMessagePromptTemplate(prompt=PromptTemplate(input_variables=['news'], input_types={}, partial_variables={}, template='{news}'), additional_kwargs={})]) middle=[] last=ChatOpenAI(client=<openai.resources.chat.completions.completions.Completions object at 0x0000017FDB6F7950>, async_client=<openai.resources.chat.completions.completions.AsyncCompletions object at 0x0000017FDB6F7750>, root_client=<openai.OpenAI object at 0x0000017FDB6F7350>, root_async_client=<openai.AsyncOpenAI object at 0x0000017FDB6F7550>, model_name='meta-llama/llama-4-scout-17b-16e-instruct', temperature=0.7, model_kwargs={}, openai_api_key=SecretStr('**********'), openai_api_base='https://api.groq.com/openai/v1')\n",
      "테슬라의 자율주행 기술은 첨단 운전자 보조 시스템(ADAS)을 기반으로 하며, 카메라, 레이더, 초음파 센서 등을 활용해 실시간으로 도로 상황을 분석하고 예측합니다. 이 기술은 크게 두 가지로 나뉩니다:\n",
      "\n",
      "1. **오토파일럿 (Autopilot)**: 기본적인 자율 주행 기능으로, 차선 유지, 속도 조절, 자동 제동 등을 포함합니다. \n",
      "2. **풀 셀프 드라이빙 (Full Self-Driving, FSD)**: 완전한 자율 주행 기능으로, 복잡한 도심 환경에서도 차량이 스스로 운전할 수 있습니다.\n",
      "\n",
      "테슬라는 지속적으로 소프트웨어 업데이트를 통해 자율주행 기능을 개선하고 있으며, 규제 당국의 승인에 따라 상용화를 추진하고 있습니다.\n"
     ]
    }
   ],
   "source": [
    "from langchain_core.prompts import ChatPromptTemplate, FewShotChatMessagePromptTemplate\n",
    "from langchain_openai import ChatOpenAI\n",
    "\n",
    "llm = ChatOpenAI(\n",
    "    api_key=OPENAI_API_KEY,\n",
    "    base_url=\"https://api.groq.com/openai/v1\",  # Groq API 엔드포인트\n",
    "    model=\"meta-llama/llama-4-scout-17b-16e-instruct\",  # Spring AI와 동일한 모델\n",
    "    #model=\"openai/gpt-oss-120b\",\n",
    "    #model=\"moonshotai/kimi-k2-instruct-0905\",\n",
    "    temperature=0.7\n",
    ")\n",
    "\n",
    "examples = [\n",
    "    {\n",
    "        \"news\": \"삼성전자가 내년 초에 자체적으로 개발한 인공지능(AI) 가속기를 처음으로 출시할 예정이다. 이는 AI 반도체 시장에서 지배적인 위치를 차지하고 있는 엔비디아의 독점을 도전하고, 세계 최고의 반도체 제조업체로서의 지위를 다시 확립하려는 삼성전자의 노력으로 해석된다.\",\n",
    "        \"keywords\": \"삼성전자, 인공지능, 엔비디아\"\n",
    "    },\n",
    "    {\n",
    "        \"news\": \"세계보건기구(WHO)는 최근 새로운 건강 위기에 대응하기 위해 국제 협력의 중요성을 강조했다. 전염병 대응 역량의 강화와 글로벌 보건 시스템의 개선이 필요하다고 발표했다.\",\n",
    "        \"keywords\": \"세계보건기구, 건강위기, 국제협력\"\n",
    "    }, \n",
    "    {\n",
    "        \"news\": \"테슬라는 자율주행 기술의 상용화를 앞당기기 위해 새로운 AI 기반 운전자 보조 시스템을 공개했다. 이번 기술은 실시간 도로 상황 분석과 예측 기능을 강화해 안전성과 효율성을 크게 높일 것으로 기대된다.\",\n",
    "        \"keywords\": \"테슬라, 자율주행, 인공지능\"\n",
    "    }\n",
    "]\n",
    "\n",
    "example_prompt = ChatPromptTemplate.from_messages(\n",
    "    [\n",
    "        (\"human\", \"{news}\"),\n",
    "        (\"ai\", \"{keywords}\"),\n",
    "    ]\n",
    ")\n",
    "\n",
    "# FewShotChatMessagePromptTemplate 적용용\n",
    "few_shot_prompt = FewShotChatMessagePromptTemplate(\n",
    "    example_prompt=example_prompt,\n",
    "    examples=examples,\n",
    ")\n",
    "\n",
    "# 최종 프롬프트 구성\n",
    "final_prompt = ChatPromptTemplate.from_messages([\n",
    "    (\"system\", \"뉴스 키워드 추출 전문가입니다. 핵심 키워드 3개를 추출하세요.\"),\n",
    "    few_shot_prompt,\n",
    "    (\"human\", \"{news}\")\n",
    "])\n",
    "\n",
    "\n",
    "# 모델 생성 및 체인 구성\n",
    "#llm = ChatOpenAI(model=\"gpt-3.5-turbo\", temperature=0.0)\n",
    "chain = final_prompt | llm\n",
    "print(llm)\n",
    "print(chain)\n",
    "\n",
    "# 테스트 실행\n",
    "result = chain.invoke({\"news\": \"테슬라의 자율주행에 대하여 설명해 주세요.\"})\n",
    "print(result.content)"
   ]
  }
 ],
 "metadata": {
  "kernelspec": {
   "display_name": "Python mylangchain-app",
   "language": "python",
   "name": "mylangchain-app"
  },
  "language_info": {
   "codemirror_mode": {
    "name": "ipython",
    "version": 3
   },
   "file_extension": ".py",
   "mimetype": "text/x-python",
   "name": "python",
   "nbconvert_exporter": "python",
   "pygments_lexer": "ipython3",
   "version": "3.13.5"
  }
 },
 "nbformat": 4,
 "nbformat_minor": 5
}
